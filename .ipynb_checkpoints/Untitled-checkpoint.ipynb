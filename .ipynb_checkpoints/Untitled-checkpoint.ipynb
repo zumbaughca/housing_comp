{
 "cells": [
  {
   "cell_type": "markdown",
   "id": "1673dacc-e7a8-4043-bfd3-0ba852a0a7c1",
   "metadata": {},
   "source": [
    "# Housing Price Prediction"
   ]
  },
  {
   "cell_type": "code",
   "execution_count": 273,
   "id": "3a2b34fa-ea60-4dae-af74-b89e2745ecb3",
   "metadata": {},
   "outputs": [],
   "source": [
    "# Imports\n",
    "import pandas as pd\n",
    "import numpy as np\n",
    "import matplotlib.pyplot as plt\n",
    "import seaborn as sns\n",
    "sns.set_style('darkgrid')"
   ]
  },
  {
   "cell_type": "code",
   "execution_count": 335,
   "id": "34d39221-9768-4729-95bc-6b5795f92520",
   "metadata": {},
   "outputs": [
    {
     "data": {
      "text/html": [
       "<div>\n",
       "<style scoped>\n",
       "    .dataframe tbody tr th:only-of-type {\n",
       "        vertical-align: middle;\n",
       "    }\n",
       "\n",
       "    .dataframe tbody tr th {\n",
       "        vertical-align: top;\n",
       "    }\n",
       "\n",
       "    .dataframe thead th {\n",
       "        text-align: right;\n",
       "    }\n",
       "</style>\n",
       "<table border=\"1\" class=\"dataframe\">\n",
       "  <thead>\n",
       "    <tr style=\"text-align: right;\">\n",
       "      <th></th>\n",
       "      <th>Id</th>\n",
       "      <th>MSSubClass</th>\n",
       "      <th>LotFrontage</th>\n",
       "      <th>LotArea</th>\n",
       "      <th>OverallQual</th>\n",
       "      <th>OverallCond</th>\n",
       "      <th>YearBuilt</th>\n",
       "      <th>YearRemodAdd</th>\n",
       "      <th>MasVnrArea</th>\n",
       "      <th>BsmtFinSF1</th>\n",
       "      <th>...</th>\n",
       "      <th>WoodDeckSF</th>\n",
       "      <th>OpenPorchSF</th>\n",
       "      <th>EnclosedPorch</th>\n",
       "      <th>3SsnPorch</th>\n",
       "      <th>ScreenPorch</th>\n",
       "      <th>PoolArea</th>\n",
       "      <th>MiscVal</th>\n",
       "      <th>MoSold</th>\n",
       "      <th>YrSold</th>\n",
       "      <th>SalePrice</th>\n",
       "    </tr>\n",
       "  </thead>\n",
       "  <tbody>\n",
       "    <tr>\n",
       "      <th>count</th>\n",
       "      <td>1460.000000</td>\n",
       "      <td>1460.000000</td>\n",
       "      <td>1201.000000</td>\n",
       "      <td>1460.000000</td>\n",
       "      <td>1460.000000</td>\n",
       "      <td>1460.000000</td>\n",
       "      <td>1460.000000</td>\n",
       "      <td>1460.000000</td>\n",
       "      <td>1452.000000</td>\n",
       "      <td>1460.000000</td>\n",
       "      <td>...</td>\n",
       "      <td>1460.000000</td>\n",
       "      <td>1460.000000</td>\n",
       "      <td>1460.000000</td>\n",
       "      <td>1460.000000</td>\n",
       "      <td>1460.000000</td>\n",
       "      <td>1460.000000</td>\n",
       "      <td>1460.000000</td>\n",
       "      <td>1460.000000</td>\n",
       "      <td>1460.000000</td>\n",
       "      <td>1460.000000</td>\n",
       "    </tr>\n",
       "    <tr>\n",
       "      <th>mean</th>\n",
       "      <td>730.500000</td>\n",
       "      <td>56.897260</td>\n",
       "      <td>70.049958</td>\n",
       "      <td>10516.828082</td>\n",
       "      <td>6.099315</td>\n",
       "      <td>5.575342</td>\n",
       "      <td>1971.267808</td>\n",
       "      <td>1984.865753</td>\n",
       "      <td>103.685262</td>\n",
       "      <td>443.639726</td>\n",
       "      <td>...</td>\n",
       "      <td>94.244521</td>\n",
       "      <td>46.660274</td>\n",
       "      <td>21.954110</td>\n",
       "      <td>3.409589</td>\n",
       "      <td>15.060959</td>\n",
       "      <td>2.758904</td>\n",
       "      <td>43.489041</td>\n",
       "      <td>6.321918</td>\n",
       "      <td>2007.815753</td>\n",
       "      <td>180921.195890</td>\n",
       "    </tr>\n",
       "    <tr>\n",
       "      <th>std</th>\n",
       "      <td>421.610009</td>\n",
       "      <td>42.300571</td>\n",
       "      <td>24.284752</td>\n",
       "      <td>9981.264932</td>\n",
       "      <td>1.382997</td>\n",
       "      <td>1.112799</td>\n",
       "      <td>30.202904</td>\n",
       "      <td>20.645407</td>\n",
       "      <td>181.066207</td>\n",
       "      <td>456.098091</td>\n",
       "      <td>...</td>\n",
       "      <td>125.338794</td>\n",
       "      <td>66.256028</td>\n",
       "      <td>61.119149</td>\n",
       "      <td>29.317331</td>\n",
       "      <td>55.757415</td>\n",
       "      <td>40.177307</td>\n",
       "      <td>496.123024</td>\n",
       "      <td>2.703626</td>\n",
       "      <td>1.328095</td>\n",
       "      <td>79442.502883</td>\n",
       "    </tr>\n",
       "    <tr>\n",
       "      <th>min</th>\n",
       "      <td>1.000000</td>\n",
       "      <td>20.000000</td>\n",
       "      <td>21.000000</td>\n",
       "      <td>1300.000000</td>\n",
       "      <td>1.000000</td>\n",
       "      <td>1.000000</td>\n",
       "      <td>1872.000000</td>\n",
       "      <td>1950.000000</td>\n",
       "      <td>0.000000</td>\n",
       "      <td>0.000000</td>\n",
       "      <td>...</td>\n",
       "      <td>0.000000</td>\n",
       "      <td>0.000000</td>\n",
       "      <td>0.000000</td>\n",
       "      <td>0.000000</td>\n",
       "      <td>0.000000</td>\n",
       "      <td>0.000000</td>\n",
       "      <td>0.000000</td>\n",
       "      <td>1.000000</td>\n",
       "      <td>2006.000000</td>\n",
       "      <td>34900.000000</td>\n",
       "    </tr>\n",
       "    <tr>\n",
       "      <th>25%</th>\n",
       "      <td>365.750000</td>\n",
       "      <td>20.000000</td>\n",
       "      <td>59.000000</td>\n",
       "      <td>7553.500000</td>\n",
       "      <td>5.000000</td>\n",
       "      <td>5.000000</td>\n",
       "      <td>1954.000000</td>\n",
       "      <td>1967.000000</td>\n",
       "      <td>0.000000</td>\n",
       "      <td>0.000000</td>\n",
       "      <td>...</td>\n",
       "      <td>0.000000</td>\n",
       "      <td>0.000000</td>\n",
       "      <td>0.000000</td>\n",
       "      <td>0.000000</td>\n",
       "      <td>0.000000</td>\n",
       "      <td>0.000000</td>\n",
       "      <td>0.000000</td>\n",
       "      <td>5.000000</td>\n",
       "      <td>2007.000000</td>\n",
       "      <td>129975.000000</td>\n",
       "    </tr>\n",
       "    <tr>\n",
       "      <th>50%</th>\n",
       "      <td>730.500000</td>\n",
       "      <td>50.000000</td>\n",
       "      <td>69.000000</td>\n",
       "      <td>9478.500000</td>\n",
       "      <td>6.000000</td>\n",
       "      <td>5.000000</td>\n",
       "      <td>1973.000000</td>\n",
       "      <td>1994.000000</td>\n",
       "      <td>0.000000</td>\n",
       "      <td>383.500000</td>\n",
       "      <td>...</td>\n",
       "      <td>0.000000</td>\n",
       "      <td>25.000000</td>\n",
       "      <td>0.000000</td>\n",
       "      <td>0.000000</td>\n",
       "      <td>0.000000</td>\n",
       "      <td>0.000000</td>\n",
       "      <td>0.000000</td>\n",
       "      <td>6.000000</td>\n",
       "      <td>2008.000000</td>\n",
       "      <td>163000.000000</td>\n",
       "    </tr>\n",
       "    <tr>\n",
       "      <th>75%</th>\n",
       "      <td>1095.250000</td>\n",
       "      <td>70.000000</td>\n",
       "      <td>80.000000</td>\n",
       "      <td>11601.500000</td>\n",
       "      <td>7.000000</td>\n",
       "      <td>6.000000</td>\n",
       "      <td>2000.000000</td>\n",
       "      <td>2004.000000</td>\n",
       "      <td>166.000000</td>\n",
       "      <td>712.250000</td>\n",
       "      <td>...</td>\n",
       "      <td>168.000000</td>\n",
       "      <td>68.000000</td>\n",
       "      <td>0.000000</td>\n",
       "      <td>0.000000</td>\n",
       "      <td>0.000000</td>\n",
       "      <td>0.000000</td>\n",
       "      <td>0.000000</td>\n",
       "      <td>8.000000</td>\n",
       "      <td>2009.000000</td>\n",
       "      <td>214000.000000</td>\n",
       "    </tr>\n",
       "    <tr>\n",
       "      <th>max</th>\n",
       "      <td>1460.000000</td>\n",
       "      <td>190.000000</td>\n",
       "      <td>313.000000</td>\n",
       "      <td>215245.000000</td>\n",
       "      <td>10.000000</td>\n",
       "      <td>9.000000</td>\n",
       "      <td>2010.000000</td>\n",
       "      <td>2010.000000</td>\n",
       "      <td>1600.000000</td>\n",
       "      <td>5644.000000</td>\n",
       "      <td>...</td>\n",
       "      <td>857.000000</td>\n",
       "      <td>547.000000</td>\n",
       "      <td>552.000000</td>\n",
       "      <td>508.000000</td>\n",
       "      <td>480.000000</td>\n",
       "      <td>738.000000</td>\n",
       "      <td>15500.000000</td>\n",
       "      <td>12.000000</td>\n",
       "      <td>2010.000000</td>\n",
       "      <td>755000.000000</td>\n",
       "    </tr>\n",
       "  </tbody>\n",
       "</table>\n",
       "<p>8 rows × 38 columns</p>\n",
       "</div>"
      ],
      "text/plain": [
       "                Id   MSSubClass  LotFrontage        LotArea  OverallQual  \\\n",
       "count  1460.000000  1460.000000  1201.000000    1460.000000  1460.000000   \n",
       "mean    730.500000    56.897260    70.049958   10516.828082     6.099315   \n",
       "std     421.610009    42.300571    24.284752    9981.264932     1.382997   \n",
       "min       1.000000    20.000000    21.000000    1300.000000     1.000000   \n",
       "25%     365.750000    20.000000    59.000000    7553.500000     5.000000   \n",
       "50%     730.500000    50.000000    69.000000    9478.500000     6.000000   \n",
       "75%    1095.250000    70.000000    80.000000   11601.500000     7.000000   \n",
       "max    1460.000000   190.000000   313.000000  215245.000000    10.000000   \n",
       "\n",
       "       OverallCond    YearBuilt  YearRemodAdd   MasVnrArea   BsmtFinSF1  ...  \\\n",
       "count  1460.000000  1460.000000   1460.000000  1452.000000  1460.000000  ...   \n",
       "mean      5.575342  1971.267808   1984.865753   103.685262   443.639726  ...   \n",
       "std       1.112799    30.202904     20.645407   181.066207   456.098091  ...   \n",
       "min       1.000000  1872.000000   1950.000000     0.000000     0.000000  ...   \n",
       "25%       5.000000  1954.000000   1967.000000     0.000000     0.000000  ...   \n",
       "50%       5.000000  1973.000000   1994.000000     0.000000   383.500000  ...   \n",
       "75%       6.000000  2000.000000   2004.000000   166.000000   712.250000  ...   \n",
       "max       9.000000  2010.000000   2010.000000  1600.000000  5644.000000  ...   \n",
       "\n",
       "        WoodDeckSF  OpenPorchSF  EnclosedPorch    3SsnPorch  ScreenPorch  \\\n",
       "count  1460.000000  1460.000000    1460.000000  1460.000000  1460.000000   \n",
       "mean     94.244521    46.660274      21.954110     3.409589    15.060959   \n",
       "std     125.338794    66.256028      61.119149    29.317331    55.757415   \n",
       "min       0.000000     0.000000       0.000000     0.000000     0.000000   \n",
       "25%       0.000000     0.000000       0.000000     0.000000     0.000000   \n",
       "50%       0.000000    25.000000       0.000000     0.000000     0.000000   \n",
       "75%     168.000000    68.000000       0.000000     0.000000     0.000000   \n",
       "max     857.000000   547.000000     552.000000   508.000000   480.000000   \n",
       "\n",
       "          PoolArea       MiscVal       MoSold       YrSold      SalePrice  \n",
       "count  1460.000000   1460.000000  1460.000000  1460.000000    1460.000000  \n",
       "mean      2.758904     43.489041     6.321918  2007.815753  180921.195890  \n",
       "std      40.177307    496.123024     2.703626     1.328095   79442.502883  \n",
       "min       0.000000      0.000000     1.000000  2006.000000   34900.000000  \n",
       "25%       0.000000      0.000000     5.000000  2007.000000  129975.000000  \n",
       "50%       0.000000      0.000000     6.000000  2008.000000  163000.000000  \n",
       "75%       0.000000      0.000000     8.000000  2009.000000  214000.000000  \n",
       "max     738.000000  15500.000000    12.000000  2010.000000  755000.000000  \n",
       "\n",
       "[8 rows x 38 columns]"
      ]
     },
     "execution_count": 335,
     "metadata": {},
     "output_type": "execute_result"
    }
   ],
   "source": [
    "df = pd.read_csv('train.csv')\n",
    "df.describe()"
   ]
  },
  {
   "cell_type": "code",
   "execution_count": 336,
   "id": "d08a01d0-0551-41c2-b3ef-77afea5b1146",
   "metadata": {},
   "outputs": [
    {
     "data": {
      "text/plain": [
       "Id                 int64\n",
       "MSSubClass         int64\n",
       "MSZoning          object\n",
       "LotFrontage      float64\n",
       "LotArea            int64\n",
       "                  ...   \n",
       "MoSold             int64\n",
       "YrSold             int64\n",
       "SaleType          object\n",
       "SaleCondition     object\n",
       "SalePrice          int64\n",
       "Length: 81, dtype: object"
      ]
     },
     "execution_count": 336,
     "metadata": {},
     "output_type": "execute_result"
    }
   ],
   "source": [
    "df.dtypes"
   ]
  },
  {
   "cell_type": "code",
   "execution_count": 337,
   "id": "c5396db3-7a7a-41d9-8b0b-17b7db9de389",
   "metadata": {},
   "outputs": [
    {
     "name": "stdout",
     "output_type": "stream",
     "text": [
      "Rows: 1460, Columns: 81\n"
     ]
    }
   ],
   "source": [
    "print(\"Rows: {0}, Columns: {1}\".format(df.shape[0], df.shape[1]))"
   ]
  },
  {
   "cell_type": "code",
   "execution_count": 338,
   "id": "3889ae87-1054-4304-81f8-9fed45cfccea",
   "metadata": {},
   "outputs": [
    {
     "name": "stdout",
     "output_type": "stream",
     "text": [
      "Number of missing observations: 6965\n"
     ]
    }
   ],
   "source": [
    "# Check for missing data\n",
    "print(\"Number of missing observations: {}\".format(df.isnull().sum().sum()))"
   ]
  },
  {
   "cell_type": "code",
   "execution_count": 339,
   "id": "99b5df26-0479-41f8-9983-a04ccb6f1139",
   "metadata": {},
   "outputs": [
    {
     "data": {
      "text/plain": [
       "LotFrontage      259\n",
       "Alley           1369\n",
       "MasVnrType         8\n",
       "MasVnrArea         8\n",
       "BsmtQual          37\n",
       "BsmtCond          37\n",
       "BsmtExposure      38\n",
       "BsmtFinType1      37\n",
       "BsmtFinType2      38\n",
       "Electrical         1\n",
       "FireplaceQu      690\n",
       "GarageType        81\n",
       "GarageYrBlt       81\n",
       "GarageFinish      81\n",
       "GarageQual        81\n",
       "GarageCond        81\n",
       "PoolQC          1453\n",
       "Fence           1179\n",
       "MiscFeature     1406\n",
       "dtype: int64"
      ]
     },
     "execution_count": 339,
     "metadata": {},
     "output_type": "execute_result"
    }
   ],
   "source": [
    "missing = df.isnull().sum()\n",
    "missing = missing[missing > 0]\n",
    "missing"
   ]
  },
  {
   "cell_type": "code",
   "execution_count": 340,
   "id": "a6661201-ef2b-41d3-bc1c-bfd86aa799d9",
   "metadata": {},
   "outputs": [
    {
     "data": {
      "text/plain": [
       "PoolQC          99.52\n",
       "MiscFeature     96.30\n",
       "Alley           93.77\n",
       "Fence           80.75\n",
       "FireplaceQu     47.26\n",
       "LotFrontage     17.74\n",
       "GarageType       5.55\n",
       "GarageYrBlt      5.55\n",
       "GarageFinish     5.55\n",
       "GarageQual       5.55\n",
       "GarageCond       5.55\n",
       "BsmtExposure     2.60\n",
       "BsmtFinType2     2.60\n",
       "BsmtFinType1     2.53\n",
       "BsmtCond         2.53\n",
       "BsmtQual         2.53\n",
       "MasVnrArea       0.55\n",
       "MasVnrType       0.55\n",
       "Electrical       0.07\n",
       "dtype: float64"
      ]
     },
     "execution_count": 340,
     "metadata": {},
     "output_type": "execute_result"
    }
   ],
   "source": [
    "pct_missing = round(missing / len(df) * 100, 2)\n",
    "pct_missing.sort_values(ascending=False)"
   ]
  },
  {
   "cell_type": "code",
   "execution_count": 341,
   "id": "f5b077d6-786e-435b-868c-482d84084272",
   "metadata": {},
   "outputs": [
    {
     "name": "stdout",
     "output_type": "stream",
     "text": [
      "LotFrontage  values:  [ 65.  80.  68.  60.  84.  85.  75.  nan  51.  50.  70.  91.  72.  66.\n",
      " 101.  57.  44. 110.  98.  47. 108. 112.  74. 115.  61.  48.  33.  52.\n",
      " 100.  24.  89.  63.  76.  81.  95.  69.  21.  32.  78. 121. 122.  40.\n",
      " 105.  73.  77.  64.  94.  34.  90.  55.  88.  82.  71. 120. 107.  92.\n",
      " 134.  62.  86. 141.  97.  54.  41.  79. 174.  99.  67.  83.  43. 103.\n",
      "  93.  30. 129. 140.  35.  37. 118.  87. 116. 150. 111.  49.  96.  59.\n",
      "  36.  56. 102.  58.  38. 109. 130.  53. 137.  45. 106. 104.  42.  39.\n",
      " 144. 114. 128. 149. 313. 168. 182. 138. 160. 152. 124. 153.  46.]\n",
      "Alley  values:  [nan 'Grvl' 'Pave']\n",
      "MasVnrType  values:  ['BrkFace' 'None' 'Stone' 'BrkCmn' nan]\n",
      "MasVnrArea  values:  [1.960e+02 0.000e+00 1.620e+02 3.500e+02 1.860e+02 2.400e+02 2.860e+02\n",
      " 3.060e+02 2.120e+02 1.800e+02 3.800e+02 2.810e+02 6.400e+02 2.000e+02\n",
      " 2.460e+02 1.320e+02 6.500e+02 1.010e+02 4.120e+02 2.720e+02 4.560e+02\n",
      " 1.031e+03 1.780e+02 5.730e+02 3.440e+02 2.870e+02 1.670e+02 1.115e+03\n",
      " 4.000e+01 1.040e+02 5.760e+02 4.430e+02 4.680e+02 6.600e+01 2.200e+01\n",
      " 2.840e+02 7.600e+01 2.030e+02 6.800e+01 1.830e+02 4.800e+01 2.800e+01\n",
      " 3.360e+02 6.000e+02 7.680e+02 4.800e+02 2.200e+02 1.840e+02 1.129e+03\n",
      " 1.160e+02 1.350e+02 2.660e+02 8.500e+01 3.090e+02 1.360e+02 2.880e+02\n",
      " 7.000e+01 3.200e+02 5.000e+01 1.200e+02 4.360e+02 2.520e+02 8.400e+01\n",
      " 6.640e+02 2.260e+02 3.000e+02 6.530e+02 1.120e+02 4.910e+02 2.680e+02\n",
      " 7.480e+02 9.800e+01 2.750e+02 1.380e+02 2.050e+02 2.620e+02 1.280e+02\n",
      " 2.600e+02 1.530e+02 6.400e+01 3.120e+02 1.600e+01 9.220e+02 1.420e+02\n",
      " 2.900e+02 1.270e+02 5.060e+02 2.970e+02       nan 6.040e+02 2.540e+02\n",
      " 3.600e+01 1.020e+02 4.720e+02 4.810e+02 1.080e+02 3.020e+02 1.720e+02\n",
      " 3.990e+02 2.700e+02 4.600e+01 2.100e+02 1.740e+02 3.480e+02 3.150e+02\n",
      " 2.990e+02 3.400e+02 1.660e+02 7.200e+01 3.100e+01 3.400e+01 2.380e+02\n",
      " 1.600e+03 3.650e+02 5.600e+01 1.500e+02 2.780e+02 2.560e+02 2.250e+02\n",
      " 3.700e+02 3.880e+02 1.750e+02 2.960e+02 1.460e+02 1.130e+02 1.760e+02\n",
      " 6.160e+02 3.000e+01 1.060e+02 8.700e+02 3.620e+02 5.300e+02 5.000e+02\n",
      " 5.100e+02 2.470e+02 3.050e+02 2.550e+02 1.250e+02 1.000e+02 4.320e+02\n",
      " 1.260e+02 4.730e+02 7.400e+01 1.450e+02 2.320e+02 3.760e+02 4.200e+01\n",
      " 1.610e+02 1.100e+02 1.800e+01 2.240e+02 2.480e+02 8.000e+01 3.040e+02\n",
      " 2.150e+02 7.720e+02 4.350e+02 3.780e+02 5.620e+02 1.680e+02 8.900e+01\n",
      " 2.850e+02 3.600e+02 9.400e+01 3.330e+02 9.210e+02 7.620e+02 5.940e+02\n",
      " 2.190e+02 1.880e+02 4.790e+02 5.840e+02 1.820e+02 2.500e+02 2.920e+02\n",
      " 2.450e+02 2.070e+02 8.200e+01 9.700e+01 3.350e+02 2.080e+02 4.200e+02\n",
      " 1.700e+02 4.590e+02 2.800e+02 9.900e+01 1.920e+02 2.040e+02 2.330e+02\n",
      " 1.560e+02 4.520e+02 5.130e+02 2.610e+02 1.640e+02 2.590e+02 2.090e+02\n",
      " 2.630e+02 2.160e+02 3.510e+02 6.600e+02 3.810e+02 5.400e+01 5.280e+02\n",
      " 2.580e+02 4.640e+02 5.700e+01 1.470e+02 1.170e+03 2.930e+02 6.300e+02\n",
      " 4.660e+02 1.090e+02 4.100e+01 1.600e+02 2.890e+02 6.510e+02 1.690e+02\n",
      " 9.500e+01 4.420e+02 2.020e+02 3.380e+02 8.940e+02 3.280e+02 6.730e+02\n",
      " 6.030e+02 1.000e+00 3.750e+02 9.000e+01 3.800e+01 1.570e+02 1.100e+01\n",
      " 1.400e+02 1.300e+02 1.480e+02 8.600e+02 4.240e+02 1.047e+03 2.430e+02\n",
      " 8.160e+02 3.870e+02 2.230e+02 1.580e+02 1.370e+02 1.150e+02 1.890e+02\n",
      " 2.740e+02 1.170e+02 6.000e+01 1.220e+02 9.200e+01 4.150e+02 7.600e+02\n",
      " 2.700e+01 7.500e+01 3.610e+02 1.050e+02 3.420e+02 2.980e+02 5.410e+02\n",
      " 2.360e+02 1.440e+02 4.230e+02 4.400e+01 1.510e+02 9.750e+02 4.500e+02\n",
      " 2.300e+02 5.710e+02 2.400e+01 5.300e+01 2.060e+02 1.400e+01 3.240e+02\n",
      " 2.950e+02 3.960e+02 6.700e+01 1.540e+02 4.250e+02 4.500e+01 1.378e+03\n",
      " 3.370e+02 1.490e+02 1.430e+02 5.100e+01 1.710e+02 2.340e+02 6.300e+01\n",
      " 7.660e+02 3.200e+01 8.100e+01 1.630e+02 5.540e+02 2.180e+02 6.320e+02\n",
      " 1.140e+02 5.670e+02 3.590e+02 4.510e+02 6.210e+02 7.880e+02 8.600e+01\n",
      " 7.960e+02 3.910e+02 2.280e+02 8.800e+01 1.650e+02 4.280e+02 4.100e+02\n",
      " 5.640e+02 3.680e+02 3.180e+02 5.790e+02 6.500e+01 7.050e+02 4.080e+02\n",
      " 2.440e+02 1.230e+02 3.660e+02 7.310e+02 4.480e+02 2.940e+02 3.100e+02\n",
      " 2.370e+02 4.260e+02 9.600e+01 4.380e+02 1.940e+02 1.190e+02]\n",
      "BsmtQual  values:  ['Gd' 'TA' 'Ex' nan 'Fa']\n",
      "BsmtCond  values:  ['TA' 'Gd' nan 'Fa' 'Po']\n",
      "BsmtExposure  values:  ['No' 'Gd' 'Mn' 'Av' nan]\n",
      "BsmtFinType1  values:  ['GLQ' 'ALQ' 'Unf' 'Rec' 'BLQ' nan 'LwQ']\n",
      "BsmtFinType2  values:  ['Unf' 'BLQ' nan 'ALQ' 'Rec' 'LwQ' 'GLQ']\n",
      "Electrical  values:  ['SBrkr' 'FuseF' 'FuseA' 'FuseP' 'Mix' nan]\n",
      "FireplaceQu  values:  [nan 'TA' 'Gd' 'Fa' 'Ex' 'Po']\n",
      "GarageType  values:  ['Attchd' 'Detchd' 'BuiltIn' 'CarPort' nan 'Basment' '2Types']\n",
      "GarageYrBlt  values:  [2003. 1976. 2001. 1998. 2000. 1993. 2004. 1973. 1931. 1939. 1965. 2005.\n",
      " 1962. 2006. 1960. 1991. 1970. 1967. 1958. 1930. 2002. 1968. 2007. 2008.\n",
      " 1957. 1920. 1966. 1959. 1995. 1954. 1953.   nan 1983. 1977. 1997. 1985.\n",
      " 1963. 1981. 1964. 1999. 1935. 1990. 1945. 1987. 1989. 1915. 1956. 1948.\n",
      " 1974. 2009. 1950. 1961. 1921. 1900. 1979. 1951. 1969. 1936. 1975. 1971.\n",
      " 1923. 1984. 1926. 1955. 1986. 1988. 1916. 1932. 1972. 1918. 1980. 1924.\n",
      " 1996. 1940. 1949. 1994. 1910. 1978. 1982. 1992. 1925. 1941. 2010. 1927.\n",
      " 1947. 1937. 1942. 1938. 1952. 1928. 1922. 1934. 1906. 1914. 1946. 1908.\n",
      " 1929. 1933.]\n",
      "GarageFinish  values:  ['RFn' 'Unf' 'Fin' nan]\n",
      "GarageQual  values:  ['TA' 'Fa' 'Gd' nan 'Ex' 'Po']\n",
      "GarageCond  values:  ['TA' 'Fa' nan 'Gd' 'Po' 'Ex']\n",
      "PoolQC  values:  [nan 'Ex' 'Fa' 'Gd']\n",
      "Fence  values:  [nan 'MnPrv' 'GdWo' 'GdPrv' 'MnWw']\n",
      "MiscFeature  values:  [nan 'Shed' 'Gar2' 'Othr' 'TenC']\n"
     ]
    }
   ],
   "source": [
    "for ix in missing.index:\n",
    "    print(ix, \" values: \", df[ix].unique())"
   ]
  },
  {
   "cell_type": "markdown",
   "id": "c8105fba-76da-46ef-bd25-0d44256ddc9e",
   "metadata": {},
   "source": [
    "## Dealing with missing values\n",
    "For some of these, it looks like a missing value represents the absence of that feature from the house. Examples of this include, Alley, BsmtQual, BsmtCond, etc. Therefore it is logical to change the value to a code that indicates the absence of this feature. \n",
    "\n",
    "Continuous features related to these (ex. GarageYrBlt) can then be set to 0 since they don't exist.\n",
    "\n",
    "Lot frontage seems like something that would be present in all houses, so we will replace this with the mean.\n",
    "\n",
    "Since all houses would have an electrical system, we will replace that with the mode."
   ]
  },
  {
   "cell_type": "code",
   "execution_count": 342,
   "id": "def6085d-e1b9-4cd6-8386-233b43b371db",
   "metadata": {},
   "outputs": [],
   "source": [
    "missing_as_none = ['MasVnrType', 'BsmtQual', 'BsmtCond', 'BsmtExposure', \n",
    "                    'BsmtFinType1', 'BsmtFinType2', 'GarageType', 'GarageFinish',\n",
    "                   'GarageQual', 'GarageCond']\n",
    "missing_as_0 = ['MasVnrArea', 'GarageYrBlt']"
   ]
  },
  {
   "cell_type": "code",
   "execution_count": 343,
   "id": "93846f34-8447-4911-a4e5-3beb065d222c",
   "metadata": {},
   "outputs": [],
   "source": [
    "electrical_mode = df['Electrical'].mode()[0]\n",
    "for col in missing_as_none:\n",
    "    df[col].replace(np.nan, 'None', inplace=True)\n",
    "\n",
    "for col in missing_as_0:\n",
    "    df[col].replace(np.nan, 0, inplace=True)\n",
    "df['Electrical'].replace(np.nan, electrical_mode, inplace=True)"
   ]
  },
  {
   "cell_type": "markdown",
   "id": "cb0e4b79-1ba1-474c-b7ea-91112948a89b",
   "metadata": {},
   "source": [
    "Now there are no duplicated or missing values\n",
    "\n",
    "Lets check that there are no features that have no variation (all the same value)."
   ]
  },
  {
   "cell_type": "code",
   "execution_count": 241,
   "id": "a33b7976-a40b-4dcd-840a-3c5eadf0ac15",
   "metadata": {},
   "outputs": [
    {
     "data": {
      "text/plain": [
       "[]"
      ]
     },
     "execution_count": 241,
     "metadata": {},
     "output_type": "execute_result"
    }
   ],
   "source": [
    "useless_cols = []\n",
    "for col in df.columns:\n",
    "    if len(df[col].unique()) == 1:\n",
    "        useless_cols.append(col)\n",
    "useless_cols"
   ]
  },
  {
   "cell_type": "markdown",
   "id": "024bf68d-f302-480f-af6c-144a7519dcbf",
   "metadata": {},
   "source": [
    "Remove columns with high missing values"
   ]
  },
  {
   "cell_type": "code",
   "execution_count": 344,
   "id": "e05ce276-dc05-493e-9ae2-3eb66e725b35",
   "metadata": {},
   "outputs": [],
   "source": [
    "drop_cols = ['PoolQC', 'MiscFeature', 'Alley', 'Fence', 'FireplaceQu', 'LotFrontage']\n",
    "df.drop(drop_cols, axis=1, inplace=True)"
   ]
  },
  {
   "cell_type": "markdown",
   "id": "3b03f7f2-c13b-452a-995e-9d99020a5cef",
   "metadata": {},
   "source": [
    "## Exploratory Visualization\n",
    "### Price vs lot frontage"
   ]
  },
  {
   "cell_type": "code",
   "execution_count": 242,
   "id": "493a841d-dd06-4d17-aac8-537fea2026a5",
   "metadata": {},
   "outputs": [],
   "source": [
    "def create_scatter(x: str, y: str, title=None, xlabel=None, ylabel=None):\n",
    "    ax = sns.scatterplot(data=df, x=x, y=y, color='slateblue')\n",
    "    ax.set_title(title)\n",
    "    if xlabel is not None:\n",
    "        ax.set_xlabel(xlabel)\n",
    "    if ylabel is not None:\n",
    "        ax.set_ylabel(ylabel)\n",
    "    return ax\n",
    "\n",
    "def create_boxplot(x: str, y: str, title=None, xlabel=None, ylabel=None):\n",
    "    ax = sns.boxplot(data=df, x=x, y=y, color='slateblue')\n",
    "    ax.set_title(title)\n",
    "    if xlabel is not None:\n",
    "        ax.set_xlabel(xlabel)\n",
    "    if ylabel is not None:\n",
    "        ax.set_ylabel(ylabel)\n",
    "    return ax"
   ]
  },
  {
   "cell_type": "markdown",
   "id": "b7ff07c0-ca82-4c85-a492-e8f3863dd418",
   "metadata": {},
   "source": [
    "In general, sale price seems to increase with Lot frontage"
   ]
  },
  {
   "cell_type": "markdown",
   "id": "e1c48972-fcec-484e-ae2e-2291db2f07ef",
   "metadata": {},
   "source": [
    "### Lot area"
   ]
  },
  {
   "cell_type": "code",
   "execution_count": 294,
   "id": "99a98116-505f-495e-86e5-c227e4f5d914",
   "metadata": {},
   "outputs": [
    {
     "data": {
      "text/plain": [
       "<AxesSubplot:xlabel='LotArea', ylabel='SalePrice'>"
      ]
     },
     "execution_count": 294,
     "metadata": {},
     "output_type": "execute_result"
    },
    {
     "data": {
      "image/png": "[encoded data removed]",
      "text/plain": [
       "<Figure size 432x288 with 1 Axes>"
      ]
     },
     "metadata": {},
     "output_type": "display_data"
    }
   ],
   "source": [
    "create_scatter(x='LotArea', y='SalePrice')"
   ]
  },
  {
   "cell_type": "markdown",
   "id": "1698e07d-1d1b-49ea-b08c-012f9fc73c48",
   "metadata": {},
   "source": [
    "Sale price increases very quickly as lot area increases from 0 to 50,000 sq ft. Areas above that don't seem to follow any real trend."
   ]
  },
  {
   "cell_type": "markdown",
   "id": "5a5ec1de-151a-4560-afb0-10e377c5da4b",
   "metadata": {},
   "source": [
    "### Year Built"
   ]
  },
  {
   "cell_type": "code",
   "execution_count": 295,
   "id": "49511383-3454-480b-a08a-04112dd96682",
   "metadata": {},
   "outputs": [
    {
     "data": {
      "text/plain": [
       "<AxesSubplot:xlabel='YearBuilt', ylabel='SalePrice'>"
      ]
     },
     "execution_count": 295,
     "metadata": {},
     "output_type": "execute_result"
    },
    {
     "data": {
      "image/png": "[encoded data removed]",
      "text/plain": [
       "<Figure size 432x288 with 1 Axes>"
      ]
     },
     "metadata": {},
     "output_type": "display_data"
    }
   ],
   "source": [
    "create_scatter(x='YearBuilt', y='SalePrice')"
   ]
  },
  {
   "cell_type": "markdown",
   "id": "7410975d-398a-48e8-8b95-7e7b47785a6e",
   "metadata": {},
   "source": [
    "Newer houses seem to have a greater sale price, but it doesn't seem to influence it to the extent as the previous variables.\n",
    "\n",
    "### Overall quality"
   ]
  },
  {
   "cell_type": "code",
   "execution_count": 296,
   "id": "d356d39d-bf8c-4d29-80aa-996e360c2913",
   "metadata": {},
   "outputs": [
    {
     "data": {
      "text/plain": [
       "<AxesSubplot:xlabel='OverallQual', ylabel='SalePrice'>"
      ]
     },
     "execution_count": 296,
     "metadata": {},
     "output_type": "execute_result"
    },
    {
     "data": {
      "image/png": "[encoded data removed]",
      "text/plain": [
       "<Figure size 432x288 with 1 Axes>"
      ]
     },
     "metadata": {},
     "output_type": "display_data"
    }
   ],
   "source": [
    "create_scatter(x='OverallQual', y='SalePrice')"
   ]
  },
  {
   "cell_type": "markdown",
   "id": "7965c192-c8a5-498c-8e32-9aa35c9ab25c",
   "metadata": {},
   "source": [
    "As expected, quality is positively correlated with price.\n",
    "\n",
    "### Quality vs. Condition"
   ]
  },
  {
   "cell_type": "code",
   "execution_count": 297,
   "id": "be7bc05e-c318-49a7-87cb-79994abde1c2",
   "metadata": {},
   "outputs": [
    {
     "data": {
      "text/plain": [
       "<AxesSubplot:xlabel='OverallCond', ylabel='OverallQual'>"
      ]
     },
     "execution_count": 297,
     "metadata": {},
     "output_type": "execute_result"
    },
    {
     "data": {
      "image/png": "[encoded data removed]",
      "text/plain": [
       "<Figure size 432x288 with 1 Axes>"
      ]
     },
     "metadata": {},
     "output_type": "display_data"
    }
   ],
   "source": [
    "create_scatter(x='OverallCond', y='OverallQual')"
   ]
  },
  {
   "cell_type": "markdown",
   "id": "2843edb9-931f-4c4d-aae3-6806eb072669",
   "metadata": {},
   "source": [
    "This chart suggests that quality and condition are distinct from each other.\n",
    "\n",
    "### Month Sold"
   ]
  },
  {
   "cell_type": "code",
   "execution_count": 298,
   "id": "dc4f4bba-3692-4d2a-ba77-cce9497ac64c",
   "metadata": {},
   "outputs": [
    {
     "data": {
      "text/plain": [
       "<AxesSubplot:xlabel='MoSold', ylabel='SalePrice'>"
      ]
     },
     "execution_count": 298,
     "metadata": {},
     "output_type": "execute_result"
    },
    {
     "data": {
      "image/png": "[encoded data removed]",
      "text/plain": [
       "<Figure size 432x288 with 1 Axes>"
      ]
     },
     "metadata": {},
     "output_type": "display_data"
    }
   ],
   "source": [
    "create_boxplot(x='MoSold', y='SalePrice')"
   ]
  },
  {
   "cell_type": "markdown",
   "id": "ace03aec-31d3-4df7-a992-64e2de5676ac",
   "metadata": {},
   "source": [
    "Sale price doesn't seem to change a ton by month, but there seem to be a lot more outlying values in the Spring and Summer.\n",
    "\n",
    "### Neighborhood"
   ]
  },
  {
   "cell_type": "code",
   "execution_count": 299,
   "id": "ee22220f-66d3-452a-8ca8-2986cf06f4e0",
   "metadata": {},
   "outputs": [
    {
     "data": {
      "image/png": "[encoded data removed]",
      "text/plain": [
       "<Figure size 432x288 with 1 Axes>"
      ]
     },
     "metadata": {},
     "output_type": "display_data"
    }
   ],
   "source": [
    "ax = create_boxplot(y='SalePrice', x='Neighborhood')\n",
    "ax.tick_params(axis='x', which='major', rotation=90)"
   ]
  },
  {
   "cell_type": "markdown",
   "id": "94383136-e637-48df-a71f-821b9efe9554",
   "metadata": {},
   "source": [
    "Neighborhood is definitley influential on sale price. \n",
    "\n",
    "### Sale Type"
   ]
  },
  {
   "cell_type": "code",
   "execution_count": 300,
   "id": "719d77d0-e1fa-4921-877e-bf9db1c5cccf",
   "metadata": {},
   "outputs": [
    {
     "data": {
      "text/plain": [
       "<AxesSubplot:xlabel='SaleType', ylabel='SalePrice'>"
      ]
     },
     "execution_count": 300,
     "metadata": {},
     "output_type": "execute_result"
    },
    {
     "data": {
      "image/png": "[encoded data removed]",
      "text/plain": [
       "<Figure size 432x288 with 1 Axes>"
      ]
     },
     "metadata": {},
     "output_type": "display_data"
    }
   ],
   "source": [
    "create_boxplot(x='SaleType', y='SalePrice')"
   ]
  },
  {
   "cell_type": "markdown",
   "id": "bf3f0306-b039-4578-b1fc-51882ff5a3fb",
   "metadata": {},
   "source": [
    "## One-Hot Encoding"
   ]
  },
  {
   "cell_type": "code",
   "execution_count": 345,
   "id": "8bf98ea7-2823-49f2-a02b-b113bf145664",
   "metadata": {},
   "outputs": [],
   "source": [
    "# first get the data types of objects\n",
    "df = pd.get_dummies(df)"
   ]
  },
  {
   "cell_type": "code",
   "execution_count": 346,
   "id": "b03753c1-07a8-415c-ac1c-316279548d13",
   "metadata": {},
   "outputs": [
    {
     "data": {
      "text/plain": [
       "280"
      ]
     },
     "execution_count": 346,
     "metadata": {},
     "output_type": "execute_result"
    }
   ],
   "source": [
    "len(df.columns)"
   ]
  },
  {
   "cell_type": "markdown",
   "id": "c81bafdb-62ec-478c-b7cb-952cc987e1a1",
   "metadata": {},
   "source": [
    "## Separate features from target"
   ]
  },
  {
   "cell_type": "code",
   "execution_count": 347,
   "id": "3295d2c5-0bc9-48dc-b36a-4fbdd90c47ad",
   "metadata": {},
   "outputs": [
    {
     "name": "stdout",
     "output_type": "stream",
     "text": [
      "(1460, 278)\n"
     ]
    }
   ],
   "source": [
    "X = df.drop(['SalePrice', 'Id'], axis=1)\n",
    "y = df['SalePrice']\n",
    "print(X.shape)"
   ]
  },
  {
   "cell_type": "markdown",
   "id": "9229b854-a240-4b5a-b8d0-d1282f2b9016",
   "metadata": {},
   "source": [
    "## Model development imports"
   ]
  },
  {
   "cell_type": "code",
   "execution_count": 348,
   "id": "4a9d247c-1863-4c94-b7be-c9739837df88",
   "metadata": {},
   "outputs": [],
   "source": [
    "from sklearn.preprocessing import StandardScaler\n",
    "from sklearn.model_selection import train_test_split, GridSearchCV\n",
    "from sklearn.pipeline import make_pipeline\n",
    "from sklearn.decomposition import PCA\n",
    "from sklearn.linear_model import LinearRegression, Ridge, Lasso\n",
    "from sklearn.svm import SVR\n",
    "from sklearn import metrics\n",
    "from xgboost import XGBRegressor"
   ]
  },
  {
   "cell_type": "markdown",
   "id": "6800fdba-6863-43ac-a5de-22e93a8372ef",
   "metadata": {},
   "source": [
    "## Train Test Split"
   ]
  },
  {
   "cell_type": "code",
   "execution_count": 349,
   "id": "c0f25edb-bafe-44a5-a30c-bbdda46495b7",
   "metadata": {},
   "outputs": [],
   "source": [
    "X_train, X_test, y_train, y_test = train_test_split(X, y, test_size=0.2, random_state=42)"
   ]
  },
  {
   "cell_type": "markdown",
   "id": "197df04d-5b81-4399-b72b-6dd678900d72",
   "metadata": {},
   "source": [
    "## Feature Reduction through PCA"
   ]
  },
  {
   "cell_type": "code",
   "execution_count": 306,
   "id": "99bfc99f-6e90-44b8-884a-a8bb28c95bab",
   "metadata": {},
   "outputs": [
    {
     "data": {
      "text/plain": [
       "<matplotlib.lines.Line2D at 0x7fbfec09ef70>"
      ]
     },
     "execution_count": 306,
     "metadata": {},
     "output_type": "execute_result"
    },
    {
     "data": {
      "image/png": "[encoded data removed]",
      "text/plain": [
       "<Figure size 432x288 with 1 Axes>"
      ]
     },
     "metadata": {},
     "output_type": "display_data"
    }
   ],
   "source": [
    "n_pca = range(1, X_train.shape[1])\n",
    "pca_variance = pd.DataFrame({'n': [], 'explained_variance': []})\n",
    "for n in n_pca:\n",
    "    pca = PCA(n_components=n, random_state=42)\n",
    "    sc = StandardScaler()\n",
    "    pca.fit(sc.fit_transform(X_train))\n",
    "    pca_variance = pca_variance.append({'n': n, 'explained_variance': pca.explained_variance_ratio_.sum()}, ignore_index=True)\n",
    "ax = sns.scatterplot(data=pca_variance, x='n', y='explained_variance', color='slateblue')\n",
    "plt.axvline(x=200, color='firebrick', linestyle='dashed')"
   ]
  },
  {
   "cell_type": "markdown",
   "id": "b8e2ab20-0fdb-4712-94ca-eac1e4063880",
   "metadata": {},
   "source": [
    "The explained variance plateaus around 150 components."
   ]
  },
  {
   "cell_type": "markdown",
   "id": "d8c6e875-6727-4911-b9ec-d81efc5d3b71",
   "metadata": {},
   "source": [
    "## Models\n",
    "### Linear Regression"
   ]
  },
  {
   "cell_type": "code",
   "execution_count": 350,
   "id": "f9fdb7ea-936f-4449-ae4a-eaea1f170817",
   "metadata": {},
   "outputs": [],
   "source": [
    "lr_pipe = make_pipeline(StandardScaler(), PCA(n_components=150, random_state=42), LinearRegression())"
   ]
  },
  {
   "cell_type": "code",
   "execution_count": 351,
   "id": "df3a7a49-beed-4db6-84ae-c1fb38102700",
   "metadata": {},
   "outputs": [
    {
     "data": {
      "text/plain": [
       "Pipeline(steps=[('standardscaler', StandardScaler()),\n",
       "                ('pca', PCA(n_components=150, random_state=42)),\n",
       "                ('linearregression', LinearRegression())])"
      ]
     },
     "execution_count": 351,
     "metadata": {},
     "output_type": "execute_result"
    }
   ],
   "source": [
    "lr_pipe.fit(X_train, y_train)"
   ]
  },
  {
   "cell_type": "code",
   "execution_count": 352,
   "id": "e07b9c61-3296-4769-afba-9c33cff18bb4",
   "metadata": {},
   "outputs": [],
   "source": [
    "lr_predicted = lr_pipe.predict(X_test)"
   ]
  },
  {
   "cell_type": "code",
   "execution_count": 353,
   "id": "5780f34b-a9af-4253-9cbf-a384ae5e8f0e",
   "metadata": {},
   "outputs": [
    {
     "name": "stdout",
     "output_type": "stream",
     "text": [
      "33137.848850884926\n",
      "R2:  0.8568356811949985\n"
     ]
    }
   ],
   "source": [
    "print(metrics.mean_squared_error(y_test, lr_predicted)**0.5)\n",
    "print(\"R2: \", metrics.r2_score(y_test, lr_predicted))\n"
   ]
  },
  {
   "cell_type": "markdown",
   "id": "960d208e-09d3-4076-88fc-5bb97ec6ded9",
   "metadata": {},
   "source": [
    "### Ridge Regression"
   ]
  },
  {
   "cell_type": "code",
   "execution_count": 354,
   "id": "7385a582-237c-4a20-9d4b-986e0a389e35",
   "metadata": {},
   "outputs": [
    {
     "data": {
      "text/plain": [
       "GridSearchCV(estimator=Pipeline(steps=[('standardscaler', StandardScaler()),\n",
       "                                       ('ridge', Ridge())]),\n",
       "             param_grid={'ridge__alpha': [0.01, 0.05, 0.1, 1, 10, 100, 1000,\n",
       "                                          10000]})"
      ]
     },
     "execution_count": 354,
     "metadata": {},
     "output_type": "execute_result"
    }
   ],
   "source": [
    "grid = {'ridge__alpha': [0.01, 0.05, 0.1, 1, 10, 100, 1000, 10000]}\n",
    "ridge_grid_pipe = make_pipeline(StandardScaler(), Ridge())\n",
    "ridge_grid = GridSearchCV(ridge_grid_pipe, grid)\n",
    "ridge_grid.fit(X_train, y_train)"
   ]
  },
  {
   "cell_type": "code",
   "execution_count": 355,
   "id": "bab928c8-45e8-4b32-bc3f-db33fe60481f",
   "metadata": {},
   "outputs": [
    {
     "data": {
      "text/plain": [
       "{'ridge__alpha': 1000}"
      ]
     },
     "execution_count": 355,
     "metadata": {},
     "output_type": "execute_result"
    }
   ],
   "source": [
    "ridge_grid.best_params_"
   ]
  },
  {
   "cell_type": "code",
   "execution_count": 356,
   "id": "f11a2b02-cfb9-4f73-867b-c46d52777ebf",
   "metadata": {},
   "outputs": [
    {
     "name": "stdout",
     "output_type": "stream",
     "text": [
      "32145.54307295573\n",
      "R2:  0.8652813568102211\n",
      "Mean Sq Log Error:  0.022123705241447245\n"
     ]
    }
   ],
   "source": [
    "ridge_pipe = make_pipeline(StandardScaler(), \n",
    "                           Ridge(alpha=1000,\n",
    "                                random_state=42))\n",
    "ridge_pipe.fit(X_train, y_train)\n",
    "ridge_pred = ridge_pipe.predict(X_test)\n",
    "print(metrics.mean_squared_error(y_test, ridge_pred)**0.5)\n",
    "print(\"R2: \", metrics.r2_score(y_test, ridge_pred))\n",
    "print(\"Mean Sq Log Error: \", metrics.mean_squared_log_error(y_test, ridge_pred))"
   ]
  },
  {
   "cell_type": "markdown",
   "id": "91ae92d9-99e2-45c2-a020-cadb49a4c45e",
   "metadata": {},
   "source": [
    "### LASSO Regression"
   ]
  },
  {
   "cell_type": "code",
   "execution_count": 407,
   "id": "c751eb42-40d9-4773-bc1c-b2ef8e80662c",
   "metadata": {},
   "outputs": [
    {
     "name": "stderr",
     "output_type": "stream",
     "text": [
      "/Users/chuckzumbaugh/opt/anaconda3/lib/python3.8/site-packages/sklearn/linear_model/_coordinate_descent.py:647: ConvergenceWarning: Objective did not converge. You might want to increase the number of iterations, check the scale of the features or consider increasing regularisation. Duality gap: 1.698e+11, tolerance: 5.374e+08\n",
      "  model = cd_fast.enet_coordinate_descent(\n",
      "/Users/chuckzumbaugh/opt/anaconda3/lib/python3.8/site-packages/sklearn/linear_model/_coordinate_descent.py:647: ConvergenceWarning: Objective did not converge. You might want to increase the number of iterations, check the scale of the features or consider increasing regularisation. Duality gap: 1.409e+11, tolerance: 5.720e+08\n",
      "  model = cd_fast.enet_coordinate_descent(\n",
      "/Users/chuckzumbaugh/opt/anaconda3/lib/python3.8/site-packages/sklearn/linear_model/_coordinate_descent.py:647: ConvergenceWarning: Objective did not converge. You might want to increase the number of iterations, check the scale of the features or consider increasing regularisation. Duality gap: 1.639e+11, tolerance: 5.256e+08\n",
      "  model = cd_fast.enet_coordinate_descent(\n",
      "/Users/chuckzumbaugh/opt/anaconda3/lib/python3.8/site-packages/sklearn/linear_model/_coordinate_descent.py:647: ConvergenceWarning: Objective did not converge. You might want to increase the number of iterations, check the scale of the features or consider increasing regularisation. Duality gap: 1.254e+11, tolerance: 5.716e+08\n",
      "  model = cd_fast.enet_coordinate_descent(\n",
      "/Users/chuckzumbaugh/opt/anaconda3/lib/python3.8/site-packages/sklearn/model_selection/_validation.py:771: UserWarning: Scoring failed. The score on this train-test partition for these parameters will be set to nan. Details: \n",
      "Traceback (most recent call last):\n",
      "  File \"/Users/chuckzumbaugh/opt/anaconda3/lib/python3.8/site-packages/sklearn/model_selection/_validation.py\", line 762, in _score\n",
      "    scores = scorer(estimator, X_test, y_test)\n",
      "  File \"/Users/chuckzumbaugh/opt/anaconda3/lib/python3.8/site-packages/sklearn/metrics/_scorer.py\", line 216, in __call__\n",
      "    return self._score(\n",
      "  File \"/Users/chuckzumbaugh/opt/anaconda3/lib/python3.8/site-packages/sklearn/metrics/_scorer.py\", line 264, in _score\n",
      "    return self._sign * self._score_func(y_true, y_pred, **self._kwargs)\n",
      "  File \"/Users/chuckzumbaugh/opt/anaconda3/lib/python3.8/site-packages/sklearn/metrics/_regression.py\", line 506, in mean_squared_log_error\n",
      "    raise ValueError(\n",
      "ValueError: Mean Squared Logarithmic Error cannot be used when targets contain negative values.\n",
      "\n",
      "  warnings.warn(\n",
      "/Users/chuckzumbaugh/opt/anaconda3/lib/python3.8/site-packages/sklearn/linear_model/_coordinate_descent.py:647: ConvergenceWarning: Objective did not converge. You might want to increase the number of iterations, check the scale of the features or consider increasing regularisation. Duality gap: 1.794e+11, tolerance: 5.796e+08\n",
      "  model = cd_fast.enet_coordinate_descent(\n",
      "/Users/chuckzumbaugh/opt/anaconda3/lib/python3.8/site-packages/sklearn/linear_model/_coordinate_descent.py:647: ConvergenceWarning: Objective did not converge. You might want to increase the number of iterations, check the scale of the features or consider increasing regularisation. Duality gap: 1.387e+11, tolerance: 5.374e+08\n",
      "  model = cd_fast.enet_coordinate_descent(\n",
      "/Users/chuckzumbaugh/opt/anaconda3/lib/python3.8/site-packages/sklearn/linear_model/_coordinate_descent.py:647: ConvergenceWarning: Objective did not converge. You might want to increase the number of iterations, check the scale of the features or consider increasing regularisation. Duality gap: 1.202e+11, tolerance: 5.720e+08\n",
      "  model = cd_fast.enet_coordinate_descent(\n",
      "/Users/chuckzumbaugh/opt/anaconda3/lib/python3.8/site-packages/sklearn/linear_model/_coordinate_descent.py:647: ConvergenceWarning: Objective did not converge. You might want to increase the number of iterations, check the scale of the features or consider increasing regularisation. Duality gap: 1.458e+11, tolerance: 5.256e+08\n",
      "  model = cd_fast.enet_coordinate_descent(\n",
      "/Users/chuckzumbaugh/opt/anaconda3/lib/python3.8/site-packages/sklearn/linear_model/_coordinate_descent.py:647: ConvergenceWarning: Objective did not converge. You might want to increase the number of iterations, check the scale of the features or consider increasing regularisation. Duality gap: 2.727e+10, tolerance: 5.716e+08\n",
      "  model = cd_fast.enet_coordinate_descent(\n",
      "/Users/chuckzumbaugh/opt/anaconda3/lib/python3.8/site-packages/sklearn/model_selection/_validation.py:771: UserWarning: Scoring failed. The score on this train-test partition for these parameters will be set to nan. Details: \n",
      "Traceback (most recent call last):\n",
      "  File \"/Users/chuckzumbaugh/opt/anaconda3/lib/python3.8/site-packages/sklearn/model_selection/_validation.py\", line 762, in _score\n",
      "    scores = scorer(estimator, X_test, y_test)\n",
      "  File \"/Users/chuckzumbaugh/opt/anaconda3/lib/python3.8/site-packages/sklearn/metrics/_scorer.py\", line 216, in __call__\n",
      "    return self._score(\n",
      "  File \"/Users/chuckzumbaugh/opt/anaconda3/lib/python3.8/site-packages/sklearn/metrics/_scorer.py\", line 264, in _score\n",
      "    return self._sign * self._score_func(y_true, y_pred, **self._kwargs)\n",
      "  File \"/Users/chuckzumbaugh/opt/anaconda3/lib/python3.8/site-packages/sklearn/metrics/_regression.py\", line 506, in mean_squared_log_error\n",
      "    raise ValueError(\n",
      "ValueError: Mean Squared Logarithmic Error cannot be used when targets contain negative values.\n",
      "\n",
      "  warnings.warn(\n",
      "/Users/chuckzumbaugh/opt/anaconda3/lib/python3.8/site-packages/sklearn/linear_model/_coordinate_descent.py:647: ConvergenceWarning: Objective did not converge. You might want to increase the number of iterations, check the scale of the features or consider increasing regularisation. Duality gap: 1.339e+11, tolerance: 5.796e+08\n",
      "  model = cd_fast.enet_coordinate_descent(\n",
      "/Users/chuckzumbaugh/opt/anaconda3/lib/python3.8/site-packages/sklearn/linear_model/_coordinate_descent.py:647: ConvergenceWarning: Objective did not converge. You might want to increase the number of iterations, check the scale of the features or consider increasing regularisation. Duality gap: 1.111e+09, tolerance: 5.374e+08\n",
      "  model = cd_fast.enet_coordinate_descent(\n",
      "/Users/chuckzumbaugh/opt/anaconda3/lib/python3.8/site-packages/sklearn/model_selection/_validation.py:771: UserWarning: Scoring failed. The score on this train-test partition for these parameters will be set to nan. Details: \n",
      "Traceback (most recent call last):\n",
      "  File \"/Users/chuckzumbaugh/opt/anaconda3/lib/python3.8/site-packages/sklearn/model_selection/_validation.py\", line 762, in _score\n",
      "    scores = scorer(estimator, X_test, y_test)\n",
      "  File \"/Users/chuckzumbaugh/opt/anaconda3/lib/python3.8/site-packages/sklearn/metrics/_scorer.py\", line 216, in __call__\n",
      "    return self._score(\n",
      "  File \"/Users/chuckzumbaugh/opt/anaconda3/lib/python3.8/site-packages/sklearn/metrics/_scorer.py\", line 264, in _score\n",
      "    return self._sign * self._score_func(y_true, y_pred, **self._kwargs)\n",
      "  File \"/Users/chuckzumbaugh/opt/anaconda3/lib/python3.8/site-packages/sklearn/metrics/_regression.py\", line 506, in mean_squared_log_error\n",
      "    raise ValueError(\n",
      "ValueError: Mean Squared Logarithmic Error cannot be used when targets contain negative values.\n",
      "\n",
      "  warnings.warn(\n",
      "/Users/chuckzumbaugh/opt/anaconda3/lib/python3.8/site-packages/sklearn/linear_model/_coordinate_descent.py:647: ConvergenceWarning: Objective did not converge. You might want to increase the number of iterations, check the scale of the features or consider increasing regularisation. Duality gap: 1.042e+09, tolerance: 5.796e+08\n",
      "  model = cd_fast.enet_coordinate_descent(\n",
      "/Users/chuckzumbaugh/opt/anaconda3/lib/python3.8/site-packages/sklearn/model_selection/_validation.py:771: UserWarning: Scoring failed. The score on this train-test partition for these parameters will be set to nan. Details: \n",
      "Traceback (most recent call last):\n",
      "  File \"/Users/chuckzumbaugh/opt/anaconda3/lib/python3.8/site-packages/sklearn/model_selection/_validation.py\", line 762, in _score\n",
      "    scores = scorer(estimator, X_test, y_test)\n",
      "  File \"/Users/chuckzumbaugh/opt/anaconda3/lib/python3.8/site-packages/sklearn/metrics/_scorer.py\", line 216, in __call__\n",
      "    return self._score(\n",
      "  File \"/Users/chuckzumbaugh/opt/anaconda3/lib/python3.8/site-packages/sklearn/metrics/_scorer.py\", line 264, in _score\n",
      "    return self._sign * self._score_func(y_true, y_pred, **self._kwargs)\n",
      "  File \"/Users/chuckzumbaugh/opt/anaconda3/lib/python3.8/site-packages/sklearn/metrics/_regression.py\", line 506, in mean_squared_log_error\n",
      "    raise ValueError(\n",
      "ValueError: Mean Squared Logarithmic Error cannot be used when targets contain negative values.\n",
      "\n",
      "  warnings.warn(\n",
      "/Users/chuckzumbaugh/opt/anaconda3/lib/python3.8/site-packages/sklearn/model_selection/_search.py:969: UserWarning: One or more of the test scores are non-finite: [        nan         nan         nan         nan -0.02685067 -0.04201763\n",
      " -0.15879272]\n",
      "  warnings.warn(\n"
     ]
    },
    {
     "data": {
      "text/plain": [
       "{'lasso__alpha': 1000}"
      ]
     },
     "execution_count": 407,
     "metadata": {},
     "output_type": "execute_result"
    }
   ],
   "source": [
    "grid = {'lasso__alpha': [0.1, 1, 10, 100, 1000, 10000, 100000]}\n",
    "lasso_grid_pipe = make_pipeline(StandardScaler(), Lasso(random_state=42))\n",
    "lasso_grid = GridSearchCV(lasso_grid_pipe, grid, scoring='neg_mean_squared_log_error')\n",
    "lasso_grid.fit(X_train, y_train)\n",
    "lasso_grid.best_params_"
   ]
  },
  {
   "cell_type": "code",
   "execution_count": 358,
   "id": "7e3b96c8-c705-4e24-9b34-119db08661ec",
   "metadata": {},
   "outputs": [
    {
     "name": "stdout",
     "output_type": "stream",
     "text": [
      "28282.53264619274\n",
      "R2 score:  0.8957147804048481\n",
      "MAE:  16612.52239552685\n",
      "Mean Sq Log Error:  0.022279310627262666\n"
     ]
    }
   ],
   "source": [
    "lasso_pipe = make_pipeline(StandardScaler(), \n",
    "                           Lasso(alpha=1000,\n",
    "                                random_state=42))\n",
    "lasso_pipe.fit(X_train, y_train)\n",
    "lasso_pred = lasso_pipe.predict(X_test)\n",
    "print(np.sqrt(metrics.mean_squared_error(y_test, lasso_pred)))\n",
    "print(\"R2 score: \", metrics.r2_score(y_test, lasso_pred))\n",
    "print(\"MAE: \", metrics.mean_absolute_error(y_test, lasso_pred))\n",
    "print(\"Mean Sq Log Error: \", metrics.mean_squared_log_error(y_test, lasso_pred))"
   ]
  },
  {
   "cell_type": "code",
   "execution_count": 359,
   "id": "0564a81f-8d2a-4972-abd8-9a1a328e57a9",
   "metadata": {},
   "outputs": [],
   "source": [
    "lasso_resid = lasso_pred - y_test"
   ]
  },
  {
   "cell_type": "markdown",
   "id": "f9e4aba3-af61-4f75-bcc0-3e0039f808c5",
   "metadata": {},
   "source": [
    "### Support Vector Regression"
   ]
  },
  {
   "cell_type": "code",
   "execution_count": 38,
   "id": "52ea286a-8ea5-4701-9a87-d60f61bead9e",
   "metadata": {},
   "outputs": [
    {
     "data": {
      "text/plain": [
       "{'svr__C': 100.0, 'svr__epsilon': 1e-05}"
      ]
     },
     "execution_count": 38,
     "metadata": {},
     "output_type": "execute_result"
    }
   ],
   "source": [
    "grid = {'svr__C': np.linspace(0.00001, 100, 7), 'svr__epsilon': np.linspace(0.00001, 100, 7)}\n",
    "svr_grid_pipe = make_pipeline(StandardScaler(), SVR())\n",
    "svr_grid = GridSearchCV(svr_grid_pipe, grid)\n",
    "svr_grid.fit(X_train, y_train)\n",
    "svr_grid.best_params_"
   ]
  },
  {
   "cell_type": "code",
   "execution_count": 39,
   "id": "206e6c34-3458-4dc5-8212-0b4a35d1eac7",
   "metadata": {},
   "outputs": [
    {
     "name": "stdout",
     "output_type": "stream",
     "text": [
      "86728.91115014275\n",
      "R2 score:  0.01935017806135786\n"
     ]
    }
   ],
   "source": [
    "svr_pipe = make_pipeline(StandardScaler(), \n",
    "                         SVR(C=100, epsilon=0.00001))\n",
    "svr_pipe.fit(X_train, y_train)\n",
    "svr_pred = svr_pipe.predict(X_test)\n",
    "print(metrics.mean_squared_error(y_test, svr_pred)**0.5)\n",
    "print(\"R2 score: \", metrics.r2_score(y_test, svr_pred))"
   ]
  },
  {
   "cell_type": "code",
   "execution_count": 40,
   "id": "48b6848a-3feb-4689-95a8-1e67101be410",
   "metadata": {},
   "outputs": [
    {
     "data": {
      "text/plain": [
       "-0.013412476183295219"
      ]
     },
     "execution_count": 40,
     "metadata": {},
     "output_type": "execute_result"
    }
   ],
   "source": [
    "svr_grid.best_score_"
   ]
  },
  {
   "cell_type": "markdown",
   "id": "26aab32d-8e9d-4fbd-94ef-f225d571166d",
   "metadata": {},
   "source": [
    "## XGBoost"
   ]
  },
  {
   "cell_type": "code",
   "execution_count": 410,
   "id": "f8c21cb8-56a1-48e3-9a74-4ebfe3b1dfae",
   "metadata": {},
   "outputs": [
    {
     "data": {
      "text/plain": [
       "{'xgbregressor__learning_rate': 0.1,\n",
       " 'xgbregressor__max_depth': 4,\n",
       " 'xgbregressor__n_estimators': 100}"
      ]
     },
     "execution_count": 410,
     "metadata": {},
     "output_type": "execute_result"
    }
   ],
   "source": [
    "grid = {'xgbregressor__n_estimators': [1, 10, 20, 30, 40, 50, 60, 70, 80, 90, 100],\n",
    "        'xgbregressor__max_depth': [2, 3, 4, 5, 6],\n",
    "        'xgbregressor__learning_rate': [0.01, 0.02, 0.03, 0.04, 0.05, 0.1, 0.2]}\n",
    "xgb_grid_pipe = make_pipeline(StandardScaler(),\n",
    "                              XGBRegressor(random_state=42))\n",
    "xgb_grid = GridSearchCV(xgb_grid_pipe, grid, scoring = 'neg_mean_squared_log_error')\n",
    "xgb_grid.fit(X_train, y_train)\n",
    "xgb_grid.best_params_"
   ]
  },
  {
   "cell_type": "code",
   "execution_count": 411,
   "id": "7e810e50-b1a3-4680-9428-fa3262fab842",
   "metadata": {},
   "outputs": [
    {
     "name": "stdout",
     "output_type": "stream",
     "text": [
      "30996.839140669374\n",
      "R2:  0.8747375260504233\n",
      "MAE:  17116.80301530394\n",
      "Mean Sq log Error:  0.020504871008448375\n"
     ]
    }
   ],
   "source": [
    "xgb_pipe = make_pipeline(StandardScaler(), \n",
    "                         XGBRegressor(n_estimators=100, \n",
    "                                      max_depth=4,\n",
    "                                      booster='gbtree',\n",
    "                                      learning_rate=0.1,\n",
    "                                     random_state=42))\n",
    "xgb_pipe.fit(X_train, y_train)\n",
    "xgb_pred = xgb_pipe.predict(X_test)\n",
    "print(metrics.mean_squared_error(y_test, xgb_pred) ** 0.5)\n",
    "print(\"R2: \", metrics.r2_score(y_test, xgb_pred))\n",
    "print(\"MAE: \", metrics.mean_absolute_error(y_test, xgb_pred))\n",
    "print(\"Mean Sq log Error: \", metrics.mean_squared_log_error(y_test, xgb_pred))"
   ]
  },
  {
   "cell_type": "code",
   "execution_count": 412,
   "id": "184982bb-825c-4d88-b53a-2db39a895ad8",
   "metadata": {},
   "outputs": [],
   "source": [
    "xgb_resids = xgb_pred - y_test"
   ]
  },
  {
   "cell_type": "markdown",
   "id": "b387501f-3762-45c3-85af-bbc8d344169b",
   "metadata": {},
   "source": [
    "## Top Model Performance\n",
    "| Metric | XGBoost | LASSO |\n",
    "| ------ | ------- | ----- |\n",
    "| RMSE   | 29,030  | 28, 314 |\n",
    "| R<sup>2</sup> | 0.890 | 0.895 |\n",
    "| MAE | 16,939 | 16,599 |\n",
    "| MSLE | 0.0202 | 0.0222 |"
   ]
  },
  {
   "cell_type": "markdown",
   "id": "3eca0be2-5e33-4d47-ac51-15bcac6111b7",
   "metadata": {},
   "source": [
    "## Model plots\n",
    "### Lasso"
   ]
  },
  {
   "cell_type": "code",
   "execution_count": 319,
   "id": "25f89171-d9c1-4729-a812-1974b65d1d08",
   "metadata": {},
   "outputs": [],
   "source": [
    "def model_plots(predicted, residuals):\n",
    "    pred_fit = np.polyfit(y_test, predicted, deg=1)\n",
    "    resid_fit = np.polyfit(y_test, residuals, deg=1)\n",
    "    pred_line = np.poly1d(pred_fit)\n",
    "    resid_line = np.poly1d(resid_fit)\n",
    "\n",
    "    fig, axes = plt.subplots(nrows=1, ncols=2, figsize=(10, 5))\n",
    "    sns.scatterplot(x=y_test, y=predicted, color='slateblue', ax=axes[0])\n",
    "    sns.lineplot(x=y_test, y=pred_line(y_test), ax=axes[0], color='firebrick')\n",
    "    sns.scatterplot(x=y_test, y=residuals, color='firebrick', ax=axes[1])\n",
    "    sns.lineplot(x=lasso_pred, y=resid_line(predicted), ax=axes[1])\n",
    "    \n",
    "    axes[0].set_ylabel(\"Predicted sale price, $\")\n",
    "    axes[0].set_xlabel(\"True sale price, $\")\n",
    "    axes[0].set_title(\"Predicted vs. true\")\n",
    "\n",
    "    axes[1].set_ylabel(\"Residuals\")\n",
    "    axes[1].set_xlabel(\"Predicted sale price, $\")\n",
    "    axes[1].set_title(\"Residuals vs. Predicted\")\n",
    "    \n",
    "    axes[0].tick_params(axis='x', which='major', rotation=45)\n",
    "    axes[1].tick_params(axis='x', which='major', rotation=45)\n",
    "    \n",
    "    fig.tight_layout(pad=3)\n",
    "    \n",
    "    return axes"
   ]
  },
  {
   "cell_type": "code",
   "execution_count": 320,
   "id": "5578d211-3c53-45f3-86af-6aaf3ca2aa38",
   "metadata": {},
   "outputs": [
    {
     "data": {
      "image/png": "[encoded data removed]",
      "text/plain": [
       "<Figure size 720x360 with 2 Axes>"
      ]
     },
     "metadata": {},
     "output_type": "display_data"
    }
   ],
   "source": [
    "axes = model_plots(lasso_pred, lasso_resid)"
   ]
  },
  {
   "cell_type": "markdown",
   "id": "f17d20a9-cf4c-46e8-9b6f-92b6f257586e",
   "metadata": {},
   "source": [
    "### XGB Regression"
   ]
  },
  {
   "cell_type": "code",
   "execution_count": 399,
   "id": "190f37f3-414e-4291-bc37-06acb35ebed2",
   "metadata": {},
   "outputs": [
    {
     "data": {
      "image/png": "[encoded data removed]",
      "text/plain": [
       "<Figure size 720x360 with 2 Axes>"
      ]
     },
     "metadata": {},
     "output_type": "display_data"
    }
   ],
   "source": [
    "axes = model_plots(xgb_pred, xgb_resids)"
   ]
  },
  {
   "cell_type": "markdown",
   "id": "eff4bc42-3306-48c1-968a-c44a2de62f80",
   "metadata": {},
   "source": [
    "## Build Final Model"
   ]
  },
  {
   "cell_type": "code",
   "execution_count": 413,
   "id": "2873bb54-b47e-4d46-a172-e11342138f0b",
   "metadata": {},
   "outputs": [
    {
     "data": {
      "text/plain": [
       "Pipeline(steps=[('standardscaler', StandardScaler()),\n",
       "                ('xgbregressor',\n",
       "                 XGBRegressor(base_score=0.5, booster='gbtree',\n",
       "                              colsample_bylevel=1, colsample_bynode=1,\n",
       "                              colsample_bytree=1, gamma=0, gpu_id=-1,\n",
       "                              importance_type='gain',\n",
       "                              interaction_constraints='', learning_rate=0.1,\n",
       "                              max_delta_step=0, max_depth=4, min_child_weight=1,\n",
       "                              missing=nan, monotone_constraints='()',\n",
       "                              n_estimators=100, n_jobs=8, num_parallel_tree=1,\n",
       "                              random_state=42, reg_alpha=0, reg_lambda=1,\n",
       "                              scale_pos_weight=1, subsample=1,\n",
       "                              tree_method='exact', validate_parameters=1,\n",
       "                              verbosity=None))])"
      ]
     },
     "execution_count": 413,
     "metadata": {},
     "output_type": "execute_result"
    }
   ],
   "source": [
    "model = make_pipeline(StandardScaler(),\n",
    "                      XGBRegressor(n_estimators=100, \n",
    "                                      max_depth=4,\n",
    "                                      booster='gbtree',\n",
    "                                   learning_rate=0.1,\n",
    "                                     random_state=42))\n",
    "model.fit(X, y)"
   ]
  },
  {
   "cell_type": "markdown",
   "id": "db80a095-09f3-48d8-98ec-f97941f5c3c1",
   "metadata": {},
   "source": [
    "### Read in test data and make predictions"
   ]
  },
  {
   "cell_type": "code",
   "execution_count": 414,
   "id": "a3005dbc-6dc2-4152-b8a9-e6df81ebd25c",
   "metadata": {},
   "outputs": [
    {
     "data": {
      "text/html": [
       "<div>\n",
       "<style scoped>\n",
       "    .dataframe tbody tr th:only-of-type {\n",
       "        vertical-align: middle;\n",
       "    }\n",
       "\n",
       "    .dataframe tbody tr th {\n",
       "        vertical-align: top;\n",
       "    }\n",
       "\n",
       "    .dataframe thead th {\n",
       "        text-align: right;\n",
       "    }\n",
       "</style>\n",
       "<table border=\"1\" class=\"dataframe\">\n",
       "  <thead>\n",
       "    <tr style=\"text-align: right;\">\n",
       "      <th></th>\n",
       "      <th>Id</th>\n",
       "      <th>MSSubClass</th>\n",
       "      <th>LotArea</th>\n",
       "      <th>OverallQual</th>\n",
       "      <th>OverallCond</th>\n",
       "      <th>YearBuilt</th>\n",
       "      <th>YearRemodAdd</th>\n",
       "      <th>MasVnrArea</th>\n",
       "      <th>BsmtFinSF1</th>\n",
       "      <th>BsmtFinSF2</th>\n",
       "      <th>...</th>\n",
       "      <th>SaleType_ConLw</th>\n",
       "      <th>SaleType_New</th>\n",
       "      <th>SaleType_Oth</th>\n",
       "      <th>SaleType_WD</th>\n",
       "      <th>SaleCondition_Abnorml</th>\n",
       "      <th>SaleCondition_AdjLand</th>\n",
       "      <th>SaleCondition_Alloca</th>\n",
       "      <th>SaleCondition_Family</th>\n",
       "      <th>SaleCondition_Normal</th>\n",
       "      <th>SaleCondition_Partial</th>\n",
       "    </tr>\n",
       "  </thead>\n",
       "  <tbody>\n",
       "    <tr>\n",
       "      <th>0</th>\n",
       "      <td>1461</td>\n",
       "      <td>20</td>\n",
       "      <td>11622</td>\n",
       "      <td>5</td>\n",
       "      <td>6</td>\n",
       "      <td>1961</td>\n",
       "      <td>1961</td>\n",
       "      <td>0.0</td>\n",
       "      <td>468.0</td>\n",
       "      <td>144.0</td>\n",
       "      <td>...</td>\n",
       "      <td>0</td>\n",
       "      <td>0</td>\n",
       "      <td>0</td>\n",
       "      <td>1</td>\n",
       "      <td>0</td>\n",
       "      <td>0</td>\n",
       "      <td>0</td>\n",
       "      <td>0</td>\n",
       "      <td>1</td>\n",
       "      <td>0</td>\n",
       "    </tr>\n",
       "    <tr>\n",
       "      <th>1</th>\n",
       "      <td>1462</td>\n",
       "      <td>20</td>\n",
       "      <td>14267</td>\n",
       "      <td>6</td>\n",
       "      <td>6</td>\n",
       "      <td>1958</td>\n",
       "      <td>1958</td>\n",
       "      <td>108.0</td>\n",
       "      <td>923.0</td>\n",
       "      <td>0.0</td>\n",
       "      <td>...</td>\n",
       "      <td>0</td>\n",
       "      <td>0</td>\n",
       "      <td>0</td>\n",
       "      <td>1</td>\n",
       "      <td>0</td>\n",
       "      <td>0</td>\n",
       "      <td>0</td>\n",
       "      <td>0</td>\n",
       "      <td>1</td>\n",
       "      <td>0</td>\n",
       "    </tr>\n",
       "    <tr>\n",
       "      <th>2</th>\n",
       "      <td>1463</td>\n",
       "      <td>60</td>\n",
       "      <td>13830</td>\n",
       "      <td>5</td>\n",
       "      <td>5</td>\n",
       "      <td>1997</td>\n",
       "      <td>1998</td>\n",
       "      <td>0.0</td>\n",
       "      <td>791.0</td>\n",
       "      <td>0.0</td>\n",
       "      <td>...</td>\n",
       "      <td>0</td>\n",
       "      <td>0</td>\n",
       "      <td>0</td>\n",
       "      <td>1</td>\n",
       "      <td>0</td>\n",
       "      <td>0</td>\n",
       "      <td>0</td>\n",
       "      <td>0</td>\n",
       "      <td>1</td>\n",
       "      <td>0</td>\n",
       "    </tr>\n",
       "    <tr>\n",
       "      <th>3</th>\n",
       "      <td>1464</td>\n",
       "      <td>60</td>\n",
       "      <td>9978</td>\n",
       "      <td>6</td>\n",
       "      <td>6</td>\n",
       "      <td>1998</td>\n",
       "      <td>1998</td>\n",
       "      <td>20.0</td>\n",
       "      <td>602.0</td>\n",
       "      <td>0.0</td>\n",
       "      <td>...</td>\n",
       "      <td>0</td>\n",
       "      <td>0</td>\n",
       "      <td>0</td>\n",
       "      <td>1</td>\n",
       "      <td>0</td>\n",
       "      <td>0</td>\n",
       "      <td>0</td>\n",
       "      <td>0</td>\n",
       "      <td>1</td>\n",
       "      <td>0</td>\n",
       "    </tr>\n",
       "    <tr>\n",
       "      <th>4</th>\n",
       "      <td>1465</td>\n",
       "      <td>120</td>\n",
       "      <td>5005</td>\n",
       "      <td>8</td>\n",
       "      <td>5</td>\n",
       "      <td>1992</td>\n",
       "      <td>1992</td>\n",
       "      <td>0.0</td>\n",
       "      <td>263.0</td>\n",
       "      <td>0.0</td>\n",
       "      <td>...</td>\n",
       "      <td>0</td>\n",
       "      <td>0</td>\n",
       "      <td>0</td>\n",
       "      <td>1</td>\n",
       "      <td>0</td>\n",
       "      <td>0</td>\n",
       "      <td>0</td>\n",
       "      <td>0</td>\n",
       "      <td>1</td>\n",
       "      <td>0</td>\n",
       "    </tr>\n",
       "  </tbody>\n",
       "</table>\n",
       "<p>5 rows × 254 columns</p>\n",
       "</div>"
      ],
      "text/plain": [
       "     Id  MSSubClass  LotArea  OverallQual  OverallCond  YearBuilt  \\\n",
       "0  1461          20    11622            5            6       1961   \n",
       "1  1462          20    14267            6            6       1958   \n",
       "2  1463          60    13830            5            5       1997   \n",
       "3  1464          60     9978            6            6       1998   \n",
       "4  1465         120     5005            8            5       1992   \n",
       "\n",
       "   YearRemodAdd  MasVnrArea  BsmtFinSF1  BsmtFinSF2  ...  SaleType_ConLw  \\\n",
       "0          1961         0.0       468.0       144.0  ...               0   \n",
       "1          1958       108.0       923.0         0.0  ...               0   \n",
       "2          1998         0.0       791.0         0.0  ...               0   \n",
       "3          1998        20.0       602.0         0.0  ...               0   \n",
       "4          1992         0.0       263.0         0.0  ...               0   \n",
       "\n",
       "   SaleType_New  SaleType_Oth  SaleType_WD  SaleCondition_Abnorml  \\\n",
       "0             0             0            1                      0   \n",
       "1             0             0            1                      0   \n",
       "2             0             0            1                      0   \n",
       "3             0             0            1                      0   \n",
       "4             0             0            1                      0   \n",
       "\n",
       "   SaleCondition_AdjLand  SaleCondition_Alloca  SaleCondition_Family  \\\n",
       "0                      0                     0                     0   \n",
       "1                      0                     0                     0   \n",
       "2                      0                     0                     0   \n",
       "3                      0                     0                     0   \n",
       "4                      0                     0                     0   \n",
       "\n",
       "   SaleCondition_Normal  SaleCondition_Partial  \n",
       "0                     1                      0  \n",
       "1                     1                      0  \n",
       "2                     1                      0  \n",
       "3                     1                      0  \n",
       "4                     1                      0  \n",
       "\n",
       "[5 rows x 254 columns]"
      ]
     },
     "execution_count": 414,
     "metadata": {},
     "output_type": "execute_result"
    }
   ],
   "source": [
    "test_df = pd.read_csv('test.csv')\n",
    "test_df.drop(drop_cols, axis=1, inplace=True)\n",
    "test_df = pd.get_dummies(test_df)\n",
    "test_df.head()"
   ]
  },
  {
   "cell_type": "code",
   "execution_count": 415,
   "id": "1978d081-a3bb-4a1c-9352-58783d73ba68",
   "metadata": {},
   "outputs": [],
   "source": [
    "# These are values for categorical variables that were present in the training set but not the testing set\n",
    "one_hot_to_add = df.columns.difference(test_df.columns).to_list()\n",
    "one_hot_to_add.remove('SalePrice')\n",
    "test_df[one_hot_to_add] = 0"
   ]
  },
  {
   "cell_type": "code",
   "execution_count": 416,
   "id": "b007230a-2473-4914-8fcd-3dc79d1d3db6",
   "metadata": {},
   "outputs": [],
   "source": [
    "test_ids = test_df['Id']\n",
    "test_X = test_df.drop('Id', axis=1)"
   ]
  },
  {
   "cell_type": "code",
   "execution_count": 417,
   "id": "ea7b4bb4-885f-48a8-85c1-c47878bc9e75",
   "metadata": {},
   "outputs": [
    {
     "data": {
      "text/plain": [
       "(1459, 278)"
      ]
     },
     "execution_count": 417,
     "metadata": {},
     "output_type": "execute_result"
    }
   ],
   "source": [
    "test_X.shape"
   ]
  },
  {
   "cell_type": "code",
   "execution_count": 418,
   "id": "04080af1-9c40-49d8-827f-85dddf9a7a81",
   "metadata": {},
   "outputs": [
    {
     "name": "stderr",
     "output_type": "stream",
     "text": [
      "/Users/chuckzumbaugh/opt/anaconda3/lib/python3.8/site-packages/sklearn/base.py:488: FutureWarning: The feature names should match those that were passed during fit. Starting version 1.2, an error will be raised.\n",
      "Feature names must be in the same order as they were in fit.\n",
      "\n",
      "  warnings.warn(message, FutureWarning)\n"
     ]
    }
   ],
   "source": [
    "predictions = model.predict(test_X)\n",
    "pred_df = pd.DataFrame({'Id': test_ids, 'SalePrice': predictions})"
   ]
  },
  {
   "cell_type": "code",
   "execution_count": 419,
   "id": "dfff6bb6-fe2b-4516-8732-6cb0271a1add",
   "metadata": {},
   "outputs": [],
   "source": [
    "pred_df.to_csv('predictions.csv')"
   ]
  }
 ],
 "metadata": {
  "kernelspec": {
   "display_name": "Python 3 (ipykernel)",
   "language": "python",
   "name": "python3"
  },
  "language_info": {
   "codemirror_mode": {
    "name": "ipython",
    "version": 3
   },
   "file_extension": ".py",
   "mimetype": "text/x-python",
   "name": "python",
   "nbconvert_exporter": "python",
   "pygments_lexer": "ipython3",
   "version": "3.8.2"
  }
 },
 "nbformat": 4,
 "nbformat_minor": 5
}
